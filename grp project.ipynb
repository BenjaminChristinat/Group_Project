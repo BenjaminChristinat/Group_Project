{
 "cells": [
  {
   "cell_type": "markdown",
   "metadata": {
    "id": "TSfQb_3w9CP3",
    "tags": []
   },
   "source": [
    "print (\"hi wolrd\n",
    ")\n"
   ]
  },
  {
   "cell_type": "code",
   "execution_count": null,
   "metadata": {},
   "outputs": [],
   "source": []
  },
  {
   "cell_type": "markdown",
   "metadata": {
    "id": "7Q0Qeuj69RbV"
   },
   "source": []
  },
  {
   "cell_type": "code",
   "execution_count": null,
   "metadata": {
    "executionInfo": {
     "elapsed": 343,
     "status": "ok",
     "timestamp": 1632322011360,
     "user": {
      "displayName": "Bernhard Bermeitinger",
      "photoUrl": "https://lh3.googleusercontent.com/a-/AOh14GivXxt0TLtU4UXyER4_cY1H5s03j1oHP80xcb4=s64",
      "userId": "00323182743818884824"
     },
     "user_tz": -120
    },
    "id": "b9kbIA0A9QLT"
   },
   "outputs": [
    {
     "name": "stdout",
     "output_type": "stream",
     "text": [
      "45\n"
     ]
    }
   ],
   "source": []
  },
  {
   "cell_type": "code",
   "execution_count": null,
   "metadata": {
    "colab": {
     "base_uri": "https://localhost:8080/"
    },
    "executionInfo": {
     "elapsed": 221,
     "status": "ok",
     "timestamp": 1632322048130,
     "user": {
      "displayName": "Bernhard Bermeitinger",
      "photoUrl": "https://lh3.googleusercontent.com/a-/AOh14GivXxt0TLtU4UXyER4_cY1H5s03j1oHP80xcb4=s64",
      "userId": "00323182743818884824"
     },
     "user_tz": -120
    },
    "id": "tWTJDI8F-T4R",
    "outputId": "9b1cd881-c6ae-4fe7-9c78-cd07a6a12ea5"
   },
   "outputs": [],
   "source": []
  },
  {
   "cell_type": "markdown",
   "metadata": {
    "id": "9liLg1iy-hPC",
    "jp-MarkdownHeadingCollapsed": true
   },
   "source": []
  },
  {
   "cell_type": "code",
   "execution_count": null,
   "metadata": {
    "executionInfo": {
     "elapsed": 212,
     "status": "ok",
     "timestamp": 1632322199223,
     "user": {
      "displayName": "Bernhard Bermeitinger",
      "photoUrl": "https://lh3.googleusercontent.com/a-/AOh14GivXxt0TLtU4UXyER4_cY1H5s03j1oHP80xcb4=s64",
      "userId": "00323182743818884824"
     },
     "user_tz": -120
    },
    "id": "zUFRQa3z-av6"
   },
   "outputs": [],
   "source": [
    "\n"
   ]
  },
  {
   "cell_type": "code",
   "execution_count": null,
   "metadata": {},
   "outputs": [],
   "source": []
  },
  {
   "cell_type": "code",
   "execution_count": null,
   "metadata": {
    "colab": {
     "base_uri": "https://localhost:8080/"
    },
    "executionInfo": {
     "elapsed": 232,
     "status": "ok",
     "timestamp": 1632322249121,
     "user": {
      "displayName": "Bernhard Bermeitinger",
      "photoUrl": "https://lh3.googleusercontent.com/a-/AOh14GivXxt0TLtU4UXyER4_cY1H5s03j1oHP80xcb4=s64",
      "userId": "00323182743818884824"
     },
     "user_tz": -120
    },
    "id": "jormUz77-4kM",
    "outputId": "ae1920e8-ec77-44fc-f4a2-112b86c4de55"
   },
   "outputs": [],
   "source": []
  },
  {
   "cell_type": "markdown",
   "metadata": {
    "id": "Mp3N7WR__Ucm",
    "jp-MarkdownHeadingCollapsed": true
   },
   "source": []
  },
  {
   "cell_type": "code",
   "execution_count": null,
   "metadata": {
    "executionInfo": {
     "elapsed": 228,
     "status": "ok",
     "timestamp": 1632322524515,
     "user": {
      "displayName": "Bernhard Bermeitinger",
      "photoUrl": "https://lh3.googleusercontent.com/a-/AOh14GivXxt0TLtU4UXyER4_cY1H5s03j1oHP80xcb4=s64",
      "userId": "00323182743818884824"
     },
     "user_tz": -120
    },
    "id": "6MAmX2-MAKCh"
   },
   "outputs": [],
   "source": [
    "\n"
   ]
  },
  {
   "cell_type": "code",
   "execution_count": null,
   "metadata": {
    "colab": {
     "base_uri": "https://localhost:8080/"
    },
    "executionInfo": {
     "elapsed": 231,
     "status": "ok",
     "timestamp": 1632322598601,
     "user": {
      "displayName": "Bernhard Bermeitinger",
      "photoUrl": "https://lh3.googleusercontent.com/a-/AOh14GivXxt0TLtU4UXyER4_cY1H5s03j1oHP80xcb4=s64",
      "userId": "00323182743818884824"
     },
     "user_tz": -120
    },
    "id": "vh6r6MlVARKh",
    "outputId": "9698507c-3f0f-4960-8f83-e5eeae417d35"
   },
   "outputs": [
    {
     "name": "stdout",
     "output_type": "stream",
     "text": [
      "\n",
      "\u001b[37;42;2m  Success! Your code works as intended.  \u001b[0m\n",
      "\n"
     ]
    }
   ],
   "source": []
  },
  {
   "cell_type": "markdown",
   "metadata": {
    "id": "OGDYrbFwAZQw"
   },
   "source": []
  },
  {
   "cell_type": "code",
   "execution_count": null,
   "metadata": {},
   "outputs": [],
   "source": []
  },
  {
   "cell_type": "code",
   "execution_count": null,
   "metadata": {},
   "outputs": [],
   "source": []
  },
  {
   "cell_type": "markdown",
   "metadata": {},
   "source": []
  },
  {
   "cell_type": "code",
   "execution_count": null,
   "metadata": {},
   "outputs": [],
   "source": []
  },
  {
   "cell_type": "code",
   "execution_count": null,
   "metadata": {},
   "outputs": [],
   "source": []
  },
  {
   "cell_type": "code",
   "execution_count": null,
   "metadata": {},
   "outputs": [],
   "source": []
  }
 ],
 "metadata": {
  "colab": {
   "collapsed_sections": [],
   "name": "Assignment_02_Solution.ipynb",
   "provenance": []
  },
  "copyright": {
   "author": "Bernhard Bermeitinger",
   "email": "bernhard.bermeitinger@unisg.ch"
  },
  "kernelspec": {
   "display_name": "base",
   "language": "python",
   "name": "python3"
  },
  "language_info": {
   "codemirror_mode": {
    "name": "ipython",
    "version": 3
   },
   "file_extension": ".py",
   "mimetype": "text/x-python",
   "name": "python",
   "nbconvert_exporter": "python",
   "pygments_lexer": "ipython3",
   "version": "3.12.7"
  },
  "toc-autonumbering": false,
  "toc-showcode": false
 },
 "nbformat": 4,
 "nbformat_minor": 4
}
